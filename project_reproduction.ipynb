{
 "cells": [
  {
   "cell_type": "code",
   "id": "initial_id",
   "metadata": {
    "collapsed": true,
    "ExecuteTime": {
     "end_time": "2025-05-10T17:11:45.342767Z",
     "start_time": "2025-05-10T17:11:45.338371Z"
    }
   },
   "source": [
    "import pandas as pd\n",
    "import os"
   ],
   "outputs": [],
   "execution_count": 33
  },
  {
   "metadata": {},
   "cell_type": "markdown",
   "source": "## Reproduction of Determinants of apartment prices in Warsaw by Xinyue Fang",
   "id": "d7239924b9e096aa"
  },
  {
   "metadata": {},
   "cell_type": "code",
   "outputs": [],
   "execution_count": null,
   "source": "",
   "id": "f0102622e692181b"
  },
  {
   "metadata": {},
   "cell_type": "markdown",
   "source": [
    "Study made by Xinyue is focused on explaining how different determinants are affecting house price on micro level. Research focuses on factors that influence the price of apartments in Warsaw, following hypothesis are formulated:\n",
    "1. Influence of apartment type on it's price, it is assumed that tenement apartments should be the cheapest.\n",
    "2. Non-linear relationship between size and price, it is expected for price to rise rapidly with the increase of flat size.\n",
    "3. Positive relationship between floor and price - the higher the apartment is situated the higher the price. Lowest floor flats should be the cheapest.\n",
    "4. Negative relationship between distance from city center and price.\n",
    "5. Positive relationship between number of ammenities and price.\n",
    "6. Ownership relationship between type of ownership an price.\n",
    "7. Positive relationship between existance of elavator and price.\n",
    "8. Positive rlationship between existance of balcony and price.\n"
   ],
   "id": "b81541fb796b3ba9"
  },
  {
   "metadata": {},
   "cell_type": "markdown",
   "source": [
    "Original dataset was taken from https://www.kaggle.com/datasets/krzysztofjamroz/apartment-prices-in-poland . Originally research was done based on data from November 2023. Given the abilities of python which we are going to use, we decided to create two separate datasets - one just to reproduce the research and extend one with data since November 2023 up until June 2024. Source dataset from kaggle includes more variables than is required for research and rows for cities which are als not included, so we will need to do some adjusting of datasets.\n",
    "Way to proceed:\n",
    "1. Download data from aforementioned source.\n",
    "2. Add csv files into source into data/source directory.\n",
    "3. Recreate original dataset for November 2023.\n",
    "4. Create copy of dataset from previous step and add data from subsequent months from source directory."
   ],
   "id": "50f7d0f9135d5bf1"
  },
  {
   "metadata": {
    "ExecuteTime": {
     "end_time": "2025-05-10T18:27:49.949939Z",
     "start_time": "2025-05-10T18:27:49.425576Z"
    }
   },
   "cell_type": "code",
   "source": [
    "def transform_data_from_file(file_path: str):\n",
    "    df_transformed = pd.read_csv(file_path)\n",
    "    df_transformed = df_transformed[(df_transformed['city'] == 'warszawa')]\n",
    "    df_transformed = df_transformed[\n",
    "        ['id', 'city', 'type', 'squareMeters', 'floor', 'floorCount', 'centreDistance', 'poiCount', 'ownership',\n",
    "         'hasBalcony', 'hasElevator', 'price']]\n",
    "    df_transformed = df_transformed[\n",
    "        (df_transformed['ownership'] == 'cooperative') | (df_transformed['ownership'] == 'condominium')]\n",
    "    df_transformed = df_transformed[\n",
    "        (df_transformed['type'] == 'apartmentBuilding') | (df_transformed['type'] == 'tenement') | (\n",
    "                df_transformed['type'] == 'blockOfFlats')]\n",
    "    df_transformed = df_transformed[\n",
    "        (df_transformed['squareMeters'] > 0) | (df_transformed['floor'] >= 0) | (df_transformed['floorCount'] >= 0) | (\n",
    "                df_transformed['poiCount'] >= 0) | (df_transformed['centreDistance'] >= 0) | (\n",
    "                    df_transformed['price'] >= 0)]\n",
    "\n",
    "    df_transformed = df_transformed.dropna()\n",
    "    df_transformed.drop_duplicates(subset='id', inplace=True)\n",
    "    df_transformed.drop(axis='columns', labels=['city'], inplace=True)\n",
    "    return df_transformed\n",
    "\n",
    "\n",
    "def aggregate_data():\n",
    "    df_list = []\n",
    "    for file in os.listdir('data/source'):\n",
    "        df = transform_data_from_file('data/source/' + file)\n",
    "        df_list.append(df)\n",
    "    aggregated_df = pd.concat(df_list, ignore_index=True)\n",
    "    # Removing same offers across different months\n",
    "    aggregated_df.drop_duplicates(subset='id', inplace=True)\n",
    "    aggregated_df.drop(axis='columns', labels=['id'], inplace=True)\n",
    "    return aggregated_df\n",
    "\n",
    "\n",
    "extended_df = aggregate_data()\n",
    "original_df = transform_data_from_file('data/source/apartments_pl_2023_11.csv')\n"
   ],
   "id": "4615cc26c68bc9e9",
   "outputs": [],
   "execution_count": 67
  },
  {
   "metadata": {
    "ExecuteTime": {
     "end_time": "2025-05-10T18:27:50.922905Z",
     "start_time": "2025-05-10T18:27:50.911465Z"
    }
   },
   "cell_type": "code",
   "source": "extended_df.info()",
   "id": "f5cefb089d87b492",
   "outputs": [
    {
     "name": "stdout",
     "output_type": "stream",
     "text": [
      "<class 'pandas.core.frame.DataFrame'>\n",
      "Index: 15805 entries, 0 to 27641\n",
      "Data columns (total 10 columns):\n",
      " #   Column          Non-Null Count  Dtype  \n",
      "---  ------          --------------  -----  \n",
      " 0   type            15805 non-null  object \n",
      " 1   squareMeters    15805 non-null  float64\n",
      " 2   floor           15805 non-null  float64\n",
      " 3   floorCount      15805 non-null  float64\n",
      " 4   centreDistance  15805 non-null  float64\n",
      " 5   poiCount        15805 non-null  float64\n",
      " 6   ownership       15805 non-null  object \n",
      " 7   hasBalcony      15805 non-null  object \n",
      " 8   hasElevator     15805 non-null  object \n",
      " 9   price           15805 non-null  int64  \n",
      "dtypes: float64(5), int64(1), object(4)\n",
      "memory usage: 1.3+ MB\n"
     ]
    }
   ],
   "execution_count": 68
  },
  {
   "metadata": {
    "ExecuteTime": {
     "end_time": "2025-05-10T18:27:52.023757Z",
     "start_time": "2025-05-10T18:27:52.014375Z"
    }
   },
   "cell_type": "code",
   "source": "original_df.info()",
   "id": "413b7136e33f4796",
   "outputs": [
    {
     "name": "stdout",
     "output_type": "stream",
     "text": [
      "<class 'pandas.core.frame.DataFrame'>\n",
      "Index: 2899 entries, 10627 to 15415\n",
      "Data columns (total 11 columns):\n",
      " #   Column          Non-Null Count  Dtype  \n",
      "---  ------          --------------  -----  \n",
      " 0   id              2899 non-null   object \n",
      " 1   type            2899 non-null   object \n",
      " 2   squareMeters    2899 non-null   float64\n",
      " 3   floor           2899 non-null   float64\n",
      " 4   floorCount      2899 non-null   float64\n",
      " 5   centreDistance  2899 non-null   float64\n",
      " 6   poiCount        2899 non-null   float64\n",
      " 7   ownership       2899 non-null   object \n",
      " 8   hasBalcony      2899 non-null   object \n",
      " 9   hasElevator     2899 non-null   object \n",
      " 10  price           2899 non-null   int64  \n",
      "dtypes: float64(5), int64(1), object(5)\n",
      "memory usage: 271.8+ KB\n"
     ]
    }
   ],
   "execution_count": 69
  },
  {
   "metadata": {},
   "cell_type": "code",
   "outputs": [],
   "execution_count": null,
   "source": "",
   "id": "651ac5e41f316038"
  }
 ],
 "metadata": {
  "kernelspec": {
   "display_name": "Python 3",
   "language": "python",
   "name": "python3"
  },
  "language_info": {
   "codemirror_mode": {
    "name": "ipython",
    "version": 2
   },
   "file_extension": ".py",
   "mimetype": "text/x-python",
   "name": "python",
   "nbconvert_exporter": "python",
   "pygments_lexer": "ipython2",
   "version": "2.7.6"
  }
 },
 "nbformat": 4,
 "nbformat_minor": 5
}
