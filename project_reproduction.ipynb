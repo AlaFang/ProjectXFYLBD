{
 "cells": [
  {
   "cell_type": "code",
   "execution_count": null,
   "id": "initial_id",
   "metadata": {
    "collapsed": true
   },
   "outputs": [],
   "source": [
    ""
   ]
  },
  {
   "metadata": {},
   "cell_type": "markdown",
   "source": "## Reproduction of Determinants of apartment prices in Warsaw by Xinyue Fang",
   "id": "d7239924b9e096aa"
  },
  {
   "metadata": {},
   "cell_type": "code",
   "outputs": [],
   "execution_count": null,
   "source": "",
   "id": "f0102622e692181b"
  },
  {
   "metadata": {},
   "cell_type": "markdown",
   "source": [
    "Study made by Xinyue is focused on explaining how different determinants are affecting house price on micro level. Research focuses on factors that influence the price of apartments in Warsaw, following hypothesis are formulated:\n",
    "1. Influence of apartment type on it's price, it is assumed that tenement apartments should be the cheapest.\n",
    "2. Non-linear relationship between size and price, it is expected for price to rise rapidly with the increase of flat size.\n",
    "3. Positive relationship between floor and price - the higher the apartment is situated the higher the price. Lowest floor flats should be the cheapest.\n",
    "4. Negative relationship between distance from city center and price.\n",
    "5. Positive relationship between number of ammenities and price.\n",
    "6. Ownership relationship between type of ownership an price.\n",
    "7. Positive relationship between existance of elavator and price.\n",
    "8. Positive rlationship between existance of balcony and price.\n"
   ],
   "id": "b81541fb796b3ba9"
  },
  {
   "metadata": {},
   "cell_type": "markdown",
   "source": [
    "Original dataset was taken from https://www.kaggle.com/datasets/krzysztofjamroz/apartment-prices-in-poland . Originally research was done based on data from November 2023. Given the abilities of python which we are going to use, we decided to create two separate datasets - one just to reproduce the research and extend one with data since November 2023 up until June 2024. Source dataset from kaggle includes more variables than is required for research and rows for cities which are als not included, so we will need to do some adjusting of datasets.\n",
    "Way to proceed:\n",
    "1. Download data from aforementioned source.\n",
    "2. Add csv files into source into data/source directory.\n",
    "3. Recreate original dataset for November 2023.\n",
    "4. Create copy of dataset from previous step and add data from subsequent months from source directory."
   ],
   "id": "50f7d0f9135d5bf1"
  },
  {
   "metadata": {},
   "cell_type": "code",
   "outputs": [],
   "execution_count": null,
   "source": "",
   "id": "7af4211fa768df7c"
  }
 ],
 "metadata": {
  "kernelspec": {
   "display_name": "Python 3",
   "language": "python",
   "name": "python3"
  },
  "language_info": {
   "codemirror_mode": {
    "name": "ipython",
    "version": 2
   },
   "file_extension": ".py",
   "mimetype": "text/x-python",
   "name": "python",
   "nbconvert_exporter": "python",
   "pygments_lexer": "ipython2",
   "version": "2.7.6"
  }
 },
 "nbformat": 4,
 "nbformat_minor": 5
}
